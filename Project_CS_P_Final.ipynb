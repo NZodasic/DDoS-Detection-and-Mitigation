{
  "cells": [
    {
      "cell_type": "code",
      "execution_count": null,
      "metadata": {
        "colab": {
          "base_uri": "https://localhost:8080/"
        },
        "id": "4YGm6rsNQAP9",
        "outputId": "e944db7b-67cf-4eaa-86d4-0d4cb2779e10"
      },
      "outputs": [
        {
          "output_type": "stream",
          "name": "stdout",
          "text": [
            "Mounted at /content/drive\n"
          ]
        }
      ],
      "source": [
        "from google.colab import drive\n",
        "drive.mount('/content/drive')"
      ]
    },
    {
      "cell_type": "code",
      "source": [
        "!pip install torchinfo"
      ],
      "metadata": {
        "colab": {
          "base_uri": "https://localhost:8080/"
        },
        "id": "zdwbqsjKD_zA",
        "outputId": "af009658-5b0d-4d05-afaf-0eeef9640aca"
      },
      "execution_count": null,
      "outputs": [
        {
          "output_type": "stream",
          "name": "stdout",
          "text": [
            "Collecting torchinfo\n",
            "  Downloading torchinfo-1.8.0-py3-none-any.whl.metadata (21 kB)\n",
            "Downloading torchinfo-1.8.0-py3-none-any.whl (23 kB)\n",
            "Installing collected packages: torchinfo\n",
            "Successfully installed torchinfo-1.8.0\n"
          ]
        }
      ]
    },
    {
      "cell_type": "code",
      "execution_count": null,
      "metadata": {
        "id": "VK_1WB-6RVh7"
      },
      "outputs": [],
      "source": [
        "import os\n",
        "import pandas as pd\n",
        "import torch\n",
        "import torch.nn as nn\n",
        "import torch.optim as optim\n",
        "\n",
        "\n",
        "from torchinfo import summary\n",
        "\n",
        "\n",
        "import numpy as np\n",
        "from sklearn.model_selection import train_test_split\n",
        "from torch.utils.data import DataLoader, Dataset\n",
        "\n",
        "from sklearn.preprocessing import MinMaxScaler, LabelEncoder"
      ]
    },
    {
      "cell_type": "code",
      "source": [
        "# Đọc dữ liệu đã gộp\n",
        "df = pd.read_csv(\"/content/drive/MyDrive/CS-P-CSBU111/Colab/Dataset/merged.csv\")\n",
        "\n",
        "df.head(1)"
      ],
      "metadata": {
        "colab": {
          "base_uri": "https://localhost:8080/",
          "height": 234
        },
        "id": "CUCOZPViowFZ",
        "outputId": "252b5dc1-b91f-4681-c18e-58dd5428af7d"
      },
      "execution_count": null,
      "outputs": [
        {
          "output_type": "stream",
          "name": "stderr",
          "text": [
            "<ipython-input-3-0173858fc59b>:2: DtypeWarning: Columns (85) have mixed types. Specify dtype option on import or set low_memory=False.\n",
            "  df = pd.read_csv(\"/content/drive/MyDrive/CS-P-CSBU111/Colab/Dataset/merged.csv\")\n"
          ]
        },
        {
          "output_type": "execute_result",
          "data": {
            "text/plain": [
              "   Unnamed: 0                                  Flow ID     Source IP  \\\n",
              "0       21243  192.168.50.6-23.194.142.213-57215-443-6  192.168.50.6   \n",
              "\n",
              "    Source Port  Destination IP   Destination Port   Protocol  \\\n",
              "0         57215  23.194.142.213                443          6   \n",
              "\n",
              "                    Timestamp   Flow Duration   Total Fwd Packets  ...  \\\n",
              "0  2018-12-01 11:22:40.970628           20740                   2  ...   \n",
              "\n",
              "    Active Std   Active Max   Active Min  Idle Mean   Idle Std   Idle Max  \\\n",
              "0          0.0          0.0          0.0        0.0        0.0        0.0   \n",
              "\n",
              "    Idle Min  SimillarHTTP   Inbound   Label  \n",
              "0        0.0             0         0  BENIGN  \n",
              "\n",
              "[1 rows x 88 columns]"
            ],
            "text/html": [
              "\n",
              "  <div id=\"df-3b2c7efb-2f17-4990-8573-24941d144335\" class=\"colab-df-container\">\n",
              "    <div>\n",
              "<style scoped>\n",
              "    .dataframe tbody tr th:only-of-type {\n",
              "        vertical-align: middle;\n",
              "    }\n",
              "\n",
              "    .dataframe tbody tr th {\n",
              "        vertical-align: top;\n",
              "    }\n",
              "\n",
              "    .dataframe thead th {\n",
              "        text-align: right;\n",
              "    }\n",
              "</style>\n",
              "<table border=\"1\" class=\"dataframe\">\n",
              "  <thead>\n",
              "    <tr style=\"text-align: right;\">\n",
              "      <th></th>\n",
              "      <th>Unnamed: 0</th>\n",
              "      <th>Flow ID</th>\n",
              "      <th>Source IP</th>\n",
              "      <th>Source Port</th>\n",
              "      <th>Destination IP</th>\n",
              "      <th>Destination Port</th>\n",
              "      <th>Protocol</th>\n",
              "      <th>Timestamp</th>\n",
              "      <th>Flow Duration</th>\n",
              "      <th>Total Fwd Packets</th>\n",
              "      <th>...</th>\n",
              "      <th>Active Std</th>\n",
              "      <th>Active Max</th>\n",
              "      <th>Active Min</th>\n",
              "      <th>Idle Mean</th>\n",
              "      <th>Idle Std</th>\n",
              "      <th>Idle Max</th>\n",
              "      <th>Idle Min</th>\n",
              "      <th>SimillarHTTP</th>\n",
              "      <th>Inbound</th>\n",
              "      <th>Label</th>\n",
              "    </tr>\n",
              "  </thead>\n",
              "  <tbody>\n",
              "    <tr>\n",
              "      <th>0</th>\n",
              "      <td>21243</td>\n",
              "      <td>192.168.50.6-23.194.142.213-57215-443-6</td>\n",
              "      <td>192.168.50.6</td>\n",
              "      <td>57215</td>\n",
              "      <td>23.194.142.213</td>\n",
              "      <td>443</td>\n",
              "      <td>6</td>\n",
              "      <td>2018-12-01 11:22:40.970628</td>\n",
              "      <td>20740</td>\n",
              "      <td>2</td>\n",
              "      <td>...</td>\n",
              "      <td>0.0</td>\n",
              "      <td>0.0</td>\n",
              "      <td>0.0</td>\n",
              "      <td>0.0</td>\n",
              "      <td>0.0</td>\n",
              "      <td>0.0</td>\n",
              "      <td>0.0</td>\n",
              "      <td>0</td>\n",
              "      <td>0</td>\n",
              "      <td>BENIGN</td>\n",
              "    </tr>\n",
              "  </tbody>\n",
              "</table>\n",
              "<p>1 rows × 88 columns</p>\n",
              "</div>\n",
              "    <div class=\"colab-df-buttons\">\n",
              "\n",
              "  <div class=\"colab-df-container\">\n",
              "    <button class=\"colab-df-convert\" onclick=\"convertToInteractive('df-3b2c7efb-2f17-4990-8573-24941d144335')\"\n",
              "            title=\"Convert this dataframe to an interactive table.\"\n",
              "            style=\"display:none;\">\n",
              "\n",
              "  <svg xmlns=\"http://www.w3.org/2000/svg\" height=\"24px\" viewBox=\"0 -960 960 960\">\n",
              "    <path d=\"M120-120v-720h720v720H120Zm60-500h600v-160H180v160Zm220 220h160v-160H400v160Zm0 220h160v-160H400v160ZM180-400h160v-160H180v160Zm440 0h160v-160H620v160ZM180-180h160v-160H180v160Zm440 0h160v-160H620v160Z\"/>\n",
              "  </svg>\n",
              "    </button>\n",
              "\n",
              "  <style>\n",
              "    .colab-df-container {\n",
              "      display:flex;\n",
              "      gap: 12px;\n",
              "    }\n",
              "\n",
              "    .colab-df-convert {\n",
              "      background-color: #E8F0FE;\n",
              "      border: none;\n",
              "      border-radius: 50%;\n",
              "      cursor: pointer;\n",
              "      display: none;\n",
              "      fill: #1967D2;\n",
              "      height: 32px;\n",
              "      padding: 0 0 0 0;\n",
              "      width: 32px;\n",
              "    }\n",
              "\n",
              "    .colab-df-convert:hover {\n",
              "      background-color: #E2EBFA;\n",
              "      box-shadow: 0px 1px 2px rgba(60, 64, 67, 0.3), 0px 1px 3px 1px rgba(60, 64, 67, 0.15);\n",
              "      fill: #174EA6;\n",
              "    }\n",
              "\n",
              "    .colab-df-buttons div {\n",
              "      margin-bottom: 4px;\n",
              "    }\n",
              "\n",
              "    [theme=dark] .colab-df-convert {\n",
              "      background-color: #3B4455;\n",
              "      fill: #D2E3FC;\n",
              "    }\n",
              "\n",
              "    [theme=dark] .colab-df-convert:hover {\n",
              "      background-color: #434B5C;\n",
              "      box-shadow: 0px 1px 3px 1px rgba(0, 0, 0, 0.15);\n",
              "      filter: drop-shadow(0px 1px 2px rgba(0, 0, 0, 0.3));\n",
              "      fill: #FFFFFF;\n",
              "    }\n",
              "  </style>\n",
              "\n",
              "    <script>\n",
              "      const buttonEl =\n",
              "        document.querySelector('#df-3b2c7efb-2f17-4990-8573-24941d144335 button.colab-df-convert');\n",
              "      buttonEl.style.display =\n",
              "        google.colab.kernel.accessAllowed ? 'block' : 'none';\n",
              "\n",
              "      async function convertToInteractive(key) {\n",
              "        const element = document.querySelector('#df-3b2c7efb-2f17-4990-8573-24941d144335');\n",
              "        const dataTable =\n",
              "          await google.colab.kernel.invokeFunction('convertToInteractive',\n",
              "                                                    [key], {});\n",
              "        if (!dataTable) return;\n",
              "\n",
              "        const docLinkHtml = 'Like what you see? Visit the ' +\n",
              "          '<a target=\"_blank\" href=https://colab.research.google.com/notebooks/data_table.ipynb>data table notebook</a>'\n",
              "          + ' to learn more about interactive tables.';\n",
              "        element.innerHTML = '';\n",
              "        dataTable['output_type'] = 'display_data';\n",
              "        await google.colab.output.renderOutput(dataTable, element);\n",
              "        const docLink = document.createElement('div');\n",
              "        docLink.innerHTML = docLinkHtml;\n",
              "        element.appendChild(docLink);\n",
              "      }\n",
              "    </script>\n",
              "  </div>\n",
              "\n",
              "\n",
              "    </div>\n",
              "  </div>\n"
            ],
            "application/vnd.google.colaboratory.intrinsic+json": {
              "type": "dataframe",
              "variable_name": "df"
            }
          },
          "metadata": {},
          "execution_count": 3
        }
      ]
    },
    {
      "cell_type": "code",
      "source": [
        "# Xóa các cột không cần thiết\n",
        "columns_to_drop = ['Flow ID', ' Source IP', ' Destination IP', ' Timestamp']\n",
        "df = df.drop(columns_to_drop, axis=1, errors='ignore')"
      ],
      "metadata": {
        "id": "HpQlI_o1o0sJ"
      },
      "execution_count": null,
      "outputs": []
    },
    {
      "cell_type": "code",
      "source": [
        "# Drop the 'Unnamed: 0' column if it exists\n",
        "df = df.drop(columns=['Unnamed: 0'], errors='ignore')"
      ],
      "metadata": {
        "id": "5zcMVwZUv7CL"
      },
      "execution_count": null,
      "outputs": []
    },
    {
      "cell_type": "code",
      "source": [
        "# Loại bỏ giá trị NaN\n",
        "df = df.dropna()"
      ],
      "metadata": {
        "id": "agoqUm0Uo16g"
      },
      "execution_count": null,
      "outputs": []
    },
    {
      "cell_type": "code",
      "source": [
        "# Chuyển đổi nhãn thành nhị phân (DDoS hoặc không)\n",
        "df[' Label'] = df[' Label'].apply(lambda x: 1 if 'DDoS' in x else 0)"
      ],
      "metadata": {
        "id": "qdkpMNyQo20s"
      },
      "execution_count": null,
      "outputs": []
    },
    {
      "cell_type": "code",
      "source": [
        "# Tách đặc trưng và nhãn\n",
        "X = df.drop(' Label', axis=1)\n",
        "y = df[' Label']"
      ],
      "metadata": {
        "id": "ygsxoZ46o5UT"
      },
      "execution_count": null,
      "outputs": []
    },
    {
      "cell_type": "code",
      "source": [
        "# Identify and handle non-numeric columns\n",
        "for column in X.select_dtypes(include=['object']).columns:\n",
        "    # You can choose to drop non-numeric columns if they are irrelevant\n",
        "    # X = X.drop(columns=[column])\n",
        "    # Or encode them using Label Encoding:\n",
        "    le = LabelEncoder()\n",
        "    X[column] = le.fit_transform(X[column].astype(str))"
      ],
      "metadata": {
        "id": "vnlhGCq8o6Ly"
      },
      "execution_count": null,
      "outputs": []
    },
    {
      "cell_type": "code",
      "source": [
        "# Replace infinite values with NaN\n",
        "X.replace([np.inf, -np.inf], np.nan, inplace=True)\n",
        "\n",
        "X.dropna(inplace=True)"
      ],
      "metadata": {
        "id": "9JZ6XNRIwn-w"
      },
      "execution_count": null,
      "outputs": []
    },
    {
      "cell_type": "code",
      "source": [
        "scaler = MinMaxScaler()\n",
        "X = scaler.fit_transform(X)"
      ],
      "metadata": {
        "id": "lAcOhbSqo7m3"
      },
      "execution_count": null,
      "outputs": []
    },
    {
      "source": [
        "# Lưu dữ liệu đã xử lý\n",
        "processed_data = pd.DataFrame(X, columns=df.columns[:-1])\n",
        "\n",
        "# Reset index of y to match the processed data\n",
        "y = y.reset_index(drop=True)\n",
        "\n",
        "# Align y with the processed data using the reset index\n",
        "processed_data['Label'] = y\n",
        "\n",
        "processed_data.to_csv(\"/content/drive/MyDrive/CS-P-CSBU111/processed_cicddos2019.csv\", index=False)"
      ],
      "cell_type": "code",
      "metadata": {
        "id": "c3jq5vjfxKs1"
      },
      "execution_count": null,
      "outputs": []
    },
    {
      "cell_type": "code",
      "source": [
        "df.columns"
      ],
      "metadata": {
        "colab": {
          "base_uri": "https://localhost:8080/"
        },
        "id": "Pu3VRiFXl9NI",
        "outputId": "47ee8b22-273a-42ab-b306-b5158e70c81a"
      },
      "execution_count": null,
      "outputs": [
        {
          "output_type": "execute_result",
          "data": {
            "text/plain": [
              "Index([' Source Port', ' Destination Port', ' Protocol', ' Flow Duration',\n",
              "       ' Total Fwd Packets', ' Total Backward Packets',\n",
              "       'Total Length of Fwd Packets', ' Total Length of Bwd Packets',\n",
              "       ' Fwd Packet Length Max', ' Fwd Packet Length Min',\n",
              "       ' Fwd Packet Length Mean', ' Fwd Packet Length Std',\n",
              "       'Bwd Packet Length Max', ' Bwd Packet Length Min',\n",
              "       ' Bwd Packet Length Mean', ' Bwd Packet Length Std', 'Flow Bytes/s',\n",
              "       ' Flow Packets/s', ' Flow IAT Mean', ' Flow IAT Std', ' Flow IAT Max',\n",
              "       ' Flow IAT Min', 'Fwd IAT Total', ' Fwd IAT Mean', ' Fwd IAT Std',\n",
              "       ' Fwd IAT Max', ' Fwd IAT Min', 'Bwd IAT Total', ' Bwd IAT Mean',\n",
              "       ' Bwd IAT Std', ' Bwd IAT Max', ' Bwd IAT Min', 'Fwd PSH Flags',\n",
              "       ' Bwd PSH Flags', ' Fwd URG Flags', ' Bwd URG Flags',\n",
              "       ' Fwd Header Length', ' Bwd Header Length', 'Fwd Packets/s',\n",
              "       ' Bwd Packets/s', ' Min Packet Length', ' Max Packet Length',\n",
              "       ' Packet Length Mean', ' Packet Length Std', ' Packet Length Variance',\n",
              "       'FIN Flag Count', ' SYN Flag Count', ' RST Flag Count',\n",
              "       ' PSH Flag Count', ' ACK Flag Count', ' URG Flag Count',\n",
              "       ' CWE Flag Count', ' ECE Flag Count', ' Down/Up Ratio',\n",
              "       ' Average Packet Size', ' Avg Fwd Segment Size',\n",
              "       ' Avg Bwd Segment Size', ' Fwd Header Length.1', 'Fwd Avg Bytes/Bulk',\n",
              "       ' Fwd Avg Packets/Bulk', ' Fwd Avg Bulk Rate', ' Bwd Avg Bytes/Bulk',\n",
              "       ' Bwd Avg Packets/Bulk', 'Bwd Avg Bulk Rate', 'Subflow Fwd Packets',\n",
              "       ' Subflow Fwd Bytes', ' Subflow Bwd Packets', ' Subflow Bwd Bytes',\n",
              "       'Init_Win_bytes_forward', ' Init_Win_bytes_backward',\n",
              "       ' act_data_pkt_fwd', ' min_seg_size_forward', 'Active Mean',\n",
              "       ' Active Std', ' Active Max', ' Active Min', 'Idle Mean', ' Idle Std',\n",
              "       ' Idle Max', ' Idle Min', 'SimillarHTTP', ' Inbound', ' Label'],\n",
              "      dtype='object')"
            ]
          },
          "metadata": {},
          "execution_count": 13
        }
      ]
    },
    {
      "cell_type": "code",
      "execution_count": null,
      "metadata": {
        "id": "QLtKxeijNgjV"
      },
      "outputs": [],
      "source": [
        "# Get the current index of X after preprocessing\n",
        "# current_index = y.index  # This line is causing the problem\n",
        "\n",
        "# Align y with the processed data using the index of X\n",
        "current_index = pd.RangeIndex(0, len(X)) # Get the index of X after preprocessing\n",
        "y = y.iloc[current_index].reset_index(drop=True)\n",
        "\n",
        "# Now X and y should have the same number of rows\n",
        "X_train, X_test, y_train, y_test = train_test_split(X, y, test_size=0.2, random_state=42)\n",
        "\n",
        "\n",
        "# Dataset cho PyTorch\n",
        "class DDoSDataset(Dataset):\n",
        "    def __init__(self, X, y):\n",
        "        self.X = torch.tensor(X, dtype=torch.float32)\n",
        "        self.y = torch.tensor(y.values, dtype=torch.float32)\n",
        "\n",
        "    def __len__(self):\n",
        "        return len(self.y)\n",
        "\n",
        "    def __getitem__(self, idx):\n",
        "        return self.X[idx].unsqueeze(0), self.y[idx]  # unsqueeze để tạo channel cho CNN\n",
        "\n",
        "train_dataset = DDoSDataset(X_train, y_train)\n",
        "test_dataset = DDoSDataset(X_test, y_test)\n",
        "\n",
        "train_loader = DataLoader(train_dataset, batch_size=64, shuffle=True)\n",
        "test_loader = DataLoader(test_dataset, batch_size=64, shuffle=False)"
      ]
    },
    {
      "cell_type": "code",
      "execution_count": null,
      "metadata": {
        "id": "2AdlOYSNQg8C"
      },
      "outputs": [],
      "source": [
        "# Mô hình CNN\n",
        "class CNN(nn.Module):\n",
        "    def __init__(self, input_size):\n",
        "        super(CNN, self).__init__()\n",
        "        self.conv1 = nn.Conv1d(1, 16, kernel_size=3, stride=1, padding=1)\n",
        "        self.conv2 = nn.Conv1d(16, 32, kernel_size=3, stride=1, padding=1)\n",
        "        self.pool = nn.MaxPool1d(kernel_size=2, stride=2)\n",
        "        # Calculate the correct input size for fc1 after convolutions and pooling\n",
        "        self.fc1 = nn.Linear(32 * (input_size // 4) , 128)  # Adjusted calculation for input_size\n",
        "        self.fc2 = nn.Linear(128, 1)\n",
        "        self.sigmoid = nn.Sigmoid()\n",
        "\n",
        "    def forward(self, x):\n",
        "        x = self.conv1(x)\n",
        "        x = torch.relu(x)\n",
        "        x = self.pool(x)\n",
        "        x = self.conv2(x)\n",
        "        x = torch.relu(x)\n",
        "        x = self.pool(x)\n",
        "        x = x.view(x.size(0), -1)  # Flatten\n",
        "        x = self.fc1(x)\n",
        "        x = torch.relu(x)\n",
        "        x = self.fc2(x)\n",
        "        return self.sigmoid(x)"
      ]
    },
    {
      "cell_type": "code",
      "source": [
        "# Instantiate the model\n",
        "input_size = 100  # Example input size\n",
        "model = CNN(input_size)"
      ],
      "metadata": {
        "id": "DYi2ORBwEE8n"
      },
      "execution_count": null,
      "outputs": []
    },
    {
      "cell_type": "code",
      "source": [
        "# Summary of the model with input size: (batch_size, channels, input_length)\n",
        "batch_size = 64  # Example batch size\n",
        "summary(model, input_size=(batch_size, 1, input_size), col_names=[\"input_size\", \"output_size\", \"num_params\", \"trainable\"])"
      ],
      "metadata": {
        "colab": {
          "base_uri": "https://localhost:8080/"
        },
        "id": "KEy0CUCvBxz_",
        "outputId": "e398fb38-ca1c-4fea-9eae-69815c91dc97"
      },
      "execution_count": null,
      "outputs": [
        {
          "output_type": "execute_result",
          "data": {
            "text/plain": [
              "============================================================================================================================================\n",
              "Layer (type:depth-idx)                   Input Shape               Output Shape              Param #                   Trainable\n",
              "============================================================================================================================================\n",
              "CNN                                      [64, 1, 100]              [64, 1]                   --                        True\n",
              "├─Conv1d: 1-1                            [64, 1, 100]              [64, 16, 100]             64                        True\n",
              "├─MaxPool1d: 1-2                         [64, 16, 100]             [64, 16, 50]              --                        --\n",
              "├─Conv1d: 1-3                            [64, 16, 50]              [64, 32, 50]              1,568                     True\n",
              "├─MaxPool1d: 1-4                         [64, 32, 50]              [64, 32, 25]              --                        --\n",
              "├─Linear: 1-5                            [64, 800]                 [64, 128]                 102,528                   True\n",
              "├─Linear: 1-6                            [64, 128]                 [64, 1]                   129                       True\n",
              "├─Sigmoid: 1-7                           [64, 1]                   [64, 1]                   --                        --\n",
              "============================================================================================================================================\n",
              "Total params: 104,289\n",
              "Trainable params: 104,289\n",
              "Non-trainable params: 0\n",
              "Total mult-adds (M): 12.00\n",
              "============================================================================================================================================\n",
              "Input size (MB): 0.03\n",
              "Forward/backward pass size (MB): 1.70\n",
              "Params size (MB): 0.42\n",
              "Estimated Total Size (MB): 2.15\n",
              "============================================================================================================================================"
            ]
          },
          "metadata": {},
          "execution_count": 35
        }
      ]
    },
    {
      "cell_type": "code",
      "execution_count": null,
      "metadata": {
        "id": "Q5Grm27mQTnR"
      },
      "outputs": [],
      "source": [
        "# Khởi tạo mô hình\n",
        "input_size = X_train.shape[1]\n",
        "model = CNN(input_size)\n",
        "criterion = nn.BCELoss()\n",
        "optimizer = optim.Adam(model.parameters(), lr=0.001)\n",
        "\n",
        "# Huấn luyện mô hình\n",
        "def train_model(model, train_loader, test_loader, criterion, optimizer, epochs=10):\n",
        "    train_accuracies = []\n",
        "    test_accuracies = []\n",
        "    losses = []\n",
        "\n",
        "    for epoch in range(epochs):\n",
        "        model.train()\n",
        "        running_loss = 0.0\n",
        "        correct_train = 0\n",
        "        total_train = 0\n",
        "\n",
        "        # Training loop\n",
        "        for X_batch, y_batch in train_loader:\n",
        "            outputs = model(X_batch).squeeze()\n",
        "            loss = criterion(outputs, y_batch)\n",
        "            optimizer.zero_grad()\n",
        "            loss.backward()\n",
        "            optimizer.step()\n",
        "            running_loss += loss.item()\n",
        "\n",
        "            # Calculate accuracy for training\n",
        "            predictions = (outputs > 0.5).float()\n",
        "            correct_train += (predictions == y_batch).sum().item()\n",
        "            total_train += y_batch.size(0)\n",
        "\n",
        "        # Calculate accuracy on the training set\n",
        "        train_accuracy = correct_train / total_train\n",
        "        train_accuracies.append(train_accuracy)\n",
        "        losses.append(running_loss / len(train_loader))\n",
        "\n",
        "        # Evaluate on the test set\n",
        "        model.eval()\n",
        "        correct_test = 0\n",
        "        total_test = 0\n",
        "        with torch.no_grad():\n",
        "            for X_batch, y_batch in test_loader:\n",
        "                outputs = model(X_batch).squeeze()\n",
        "                predictions = (outputs > 0.5).float()\n",
        "                correct_test += (predictions == y_batch).sum().item()\n",
        "                total_test += y_batch.size(0)\n",
        "\n",
        "        test_accuracy = correct_test / total_test\n",
        "        test_accuracies.append(test_accuracy)\n",
        "\n",
        "        print(\n",
        "            f\"Epoch {epoch + 1}/{epochs}, \"\n",
        "            f\"Loss: {running_loss / len(train_loader):.4f}, \"\n",
        "            f\"Train Accuracy: {train_accuracy:.4f}, \"\n",
        "            f\"Test Accuracy: {test_accuracy:.4f}\"\n",
        "        )\n",
        "\n",
        "    return train_accuracies, test_accuracies, losses\n",
        "\n"
      ]
    },
    {
      "cell_type": "code",
      "source": [
        "train_accuracies, test_accuracies, losses = train_model(\n",
        "    model, train_loader, test_loader, criterion, optimizer, epochs=10\n",
        ")"
      ],
      "metadata": {
        "colab": {
          "base_uri": "https://localhost:8080/"
        },
        "id": "xgVO_mu1BBH0",
        "outputId": "4c9c52a6-a648-42a7-b85f-6d3384c68c39"
      },
      "execution_count": null,
      "outputs": [
        {
          "output_type": "stream",
          "name": "stdout",
          "text": [
            "Epoch 1/10, Loss: 0.0037, Train Accuracy: 0.9995, Test Accuracy: 0.9996\n",
            "Epoch 2/10, Loss: 0.0030, Train Accuracy: 0.9996, Test Accuracy: 0.9996\n",
            "Epoch 3/10, Loss: 0.0030, Train Accuracy: 0.9996, Test Accuracy: 0.9996\n",
            "Epoch 4/10, Loss: 0.0030, Train Accuracy: 0.9996, Test Accuracy: 0.9996\n",
            "Epoch 5/10, Loss: 0.0031, Train Accuracy: 0.9996, Test Accuracy: 0.9996\n",
            "Epoch 6/10, Loss: 0.0029, Train Accuracy: 0.9996, Test Accuracy: 0.9996\n",
            "Epoch 7/10, Loss: 0.0029, Train Accuracy: 0.9996, Test Accuracy: 0.9996\n",
            "Epoch 8/10, Loss: 0.0029, Train Accuracy: 0.9996, Test Accuracy: 0.9996\n",
            "Epoch 9/10, Loss: 0.0029, Train Accuracy: 0.9996, Test Accuracy: 0.9996\n",
            "Epoch 10/10, Loss: 0.0029, Train Accuracy: 0.9996, Test Accuracy: 0.9996\n"
          ]
        }
      ]
    },
    {
      "cell_type": "code",
      "execution_count": null,
      "metadata": {
        "id": "0NdlOdsBN2aq",
        "colab": {
          "base_uri": "https://localhost:8080/"
        },
        "outputId": "4c29c551-8852-41bd-d4a0-fd10d6ec2422"
      },
      "outputs": [
        {
          "output_type": "stream",
          "name": "stdout",
          "text": [
            "Full model has been saved successfully!\n",
            "Full model has been loaded successfully!\n"
          ]
        },
        {
          "output_type": "stream",
          "name": "stderr",
          "text": [
            "<ipython-input-30-e36e4e49294e>:7: FutureWarning: You are using `torch.load` with `weights_only=False` (the current default value), which uses the default pickle module implicitly. It is possible to construct malicious pickle data which will execute arbitrary code during unpickling (See https://github.com/pytorch/pytorch/blob/main/SECURITY.md#untrusted-models for more details). In a future release, the default value for `weights_only` will be flipped to `True`. This limits the functions that could be executed during unpickling. Arbitrary objects will no longer be allowed to be loaded via this mode unless they are explicitly allowlisted by the user via `torch.serialization.add_safe_globals`. We recommend you start setting `weights_only=True` for any use case where you don't have full control of the loaded file. Please open an issue on GitHub for any issues related to this experimental feature.\n",
            "  model = torch.load(\"ddos_model_full.pt\")\n"
          ]
        }
      ],
      "source": [
        "# Lưu toàn bộ mô hình\n",
        "torch.save(model, \"model_2.pt\")\n",
        "print(\"Full model has been saved successfully!\")\n",
        "\n",
        "\n",
        "# Tải trạng thái từ file .pt\n",
        "model = torch.load(\"ddos_model_full.pt\")\n",
        "model.eval()\n",
        "print(\"Full model has been loaded successfully!\")"
      ]
    },
    {
      "cell_type": "code",
      "source": [
        "import matplotlib.pyplot as plt\n",
        "\n",
        "# Plot training and test accuracies\n",
        "plt.figure(figsize=(10, 6))\n",
        "plt.plot(train_accuracies, label=\"Train Accuracy\", marker=\"o\")\n",
        "plt.plot(test_accuracies, label=\"Test Accuracy\", marker=\"o\")\n",
        "plt.title(\"Model Accuracy per Epoch\")\n",
        "plt.xlabel(\"Epoch\")\n",
        "plt.ylabel(\"Accuracy\")\n",
        "plt.legend()\n",
        "plt.grid(True)\n",
        "plt.show()\n"
      ],
      "metadata": {
        "colab": {
          "base_uri": "https://localhost:8080/",
          "height": 564
        },
        "id": "mCjlHh-eBEnj",
        "outputId": "9e7e99ff-e785-4410-a62f-597463cfc290"
      },
      "execution_count": null,
      "outputs": [
        {
          "output_type": "display_data",
          "data": {
            "text/plain": [
              "<Figure size 1000x600 with 1 Axes>"
            ],
            "image/png": "[encoded data removed]"
          },
          "metadata": {}
        }
      ]
    },
    {
      "cell_type": "code",
      "source": [
        "# Plot loss\n",
        "plt.figure(figsize=(10, 6))\n",
        "plt.plot(losses, label=\"Loss\", marker=\"o\", color=\"red\")\n",
        "plt.title(\"Training Loss per Epoch\")\n",
        "plt.xlabel(\"Epoch\")\n",
        "plt.ylabel(\"Loss\")\n",
        "plt.legend()\n",
        "plt.grid(True)\n",
        "plt.show()\n"
      ],
      "metadata": {
        "colab": {
          "base_uri": "https://localhost:8080/",
          "height": 564
        },
        "id": "S1VXNd3IBFxk",
        "outputId": "e82bf8d9-9786-4094-f1d6-f71f9287784f"
      },
      "execution_count": null,
      "outputs": [
        {
          "output_type": "display_data",
          "data": {
            "text/plain": [
              "<Figure size 1000x600 with 1 Axes>"
            ],
            "image/png": "[encoded data removed]"
          },
          "metadata": {}
        }
      ]
    }
  ],
  "metadata": {
    "accelerator": "GPU",
    "colab": {
      "gpuType": "A100",
      "provenance": [],
      "machine_shape": "hm"
    },
    "kernelspec": {
      "display_name": "Python 3",
      "name": "python3"
    },
    "language_info": {
      "name": "python"
    }
  },
  "nbformat": 4,
  "nbformat_minor": 0
}