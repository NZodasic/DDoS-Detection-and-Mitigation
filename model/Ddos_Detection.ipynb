{
  "nbformat": 4,
  "nbformat_minor": 0,
  "metadata": {
    "colab": {
      "provenance": []
    },
    "kernelspec": {
      "name": "python3",
      "display_name": "Python 3"
    },
    "language_info": {
      "name": "python"
    }
  },
  "cells": [
    {
      "cell_type": "code",
      "source": [
        "from google.colab import drive\n",
        "drive.mount('/content/drive')"
      ],
      "metadata": {
        "colab": {
          "base_uri": "https://localhost:8080/"
        },
        "id": "rnFNPC7Yb8R4",
        "outputId": "39a90031-4a50-4fe9-a64b-1b7668844e9b"
      },
      "execution_count": null,
      "outputs": [
        {
          "output_type": "stream",
          "name": "stdout",
          "text": [
            "Drive already mounted at /content/drive; to attempt to forcibly remount, call drive.mount(\"/content/drive\", force_remount=True).\n"
          ]
        }
      ]
    },
    {
      "cell_type": "markdown",
      "source": [
        "# **Data Analysis Process**"
      ],
      "metadata": {
        "id": "GTIQq8P_IvUb"
      }
    },
    {
      "cell_type": "markdown",
      "source": [
        "## **Step 1: Import Libraries**"
      ],
      "metadata": {
        "id": "tmwy_Vb8I6gL"
      }
    },
    {
      "cell_type": "code",
      "execution_count": null,
      "metadata": {
        "id": "HEzlJyULQvG4"
      },
      "outputs": [],
      "source": [
        "import numpy as np\n",
        "import pandas as pd\n",
        "from sklearn.ensemble import RandomForestClassifier\n",
        "from sklearn.model_selection import train_test_split\n",
        "from sklearn.preprocessing import StandardScaler\n",
        "from sklearn.metrics import accuracy_score, classification_report, confusion_matrix\n",
        "import torch\n",
        "import torch.nn as nn\n",
        "import torch.optim as optim\n",
        "from torch.utils.data import Dataset, DataLoader, TensorDataset"
      ]
    },
    {
      "cell_type": "markdown",
      "source": [
        "## **Step 2: Analyze data**"
      ],
      "metadata": {
        "id": "LDL06PYsKmud"
      }
    },
    {
      "cell_type": "code",
      "source": [
        "df = pd.read_csv(\"/content/drive/MyDrive/security/merged.csv\")\n",
        "df.head()"
      ],
      "metadata": {
        "colab": {
          "base_uri": "https://localhost:8080/",
          "height": 446
        },
        "id": "T6iJebWpb-Qe",
        "outputId": "d3507ce8-8a1d-459b-941c-1f13cf4a2405"
      },
      "execution_count": null,
      "outputs": [
        {
          "output_type": "stream",
          "name": "stderr",
          "text": [
            "<ipython-input-4-d26ebdaba998>:1: DtypeWarning: Columns (85) have mixed types. Specify dtype option on import or set low_memory=False.\n",
            "  df = pd.read_csv(\"/content/drive/MyDrive/security/merged.csv\")\n"
          ]
        },
        {
          "output_type": "execute_result",
          "data": {
            "text/plain": [
              "   Unnamed: 0                                  Flow ID       Source IP  \\\n",
              "0       21243  192.168.50.6-23.194.142.213-57215-443-6    192.168.50.6   \n",
              "1       18666           192.168.50.253-224.0.0.5-0-0-0  192.168.50.253   \n",
              "2       15346                    8.0.6.4-8.6.0.1-0-0-0         8.6.0.1   \n",
              "3         160           192.168.50.254-224.0.0.5-0-0-0  192.168.50.254   \n",
              "4       19686   192.168.50.8-125.56.201.105-59307-80-6    192.168.50.8   \n",
              "\n",
              "    Source Port  Destination IP   Destination Port   Protocol  \\\n",
              "0         57215  23.194.142.213                443          6   \n",
              "1             0       224.0.0.5                  0          0   \n",
              "2             0         8.0.6.4                  0          0   \n",
              "3             0       224.0.0.5                  0          0   \n",
              "4         59307  125.56.201.105                 80          6   \n",
              "\n",
              "                    Timestamp   Flow Duration   Total Fwd Packets  ...  \\\n",
              "0  2018-12-01 11:22:40.970628           20740                   2  ...   \n",
              "1  2018-12-01 11:22:41.955234               5                   4  ...   \n",
              "2  2018-12-01 11:22:43.923507               2                   2  ...   \n",
              "3  2018-12-01 11:22:48.452989               3                   3  ...   \n",
              "4  2018-12-01 11:22:49.599759          173888                   2  ...   \n",
              "\n",
              "    Active Std   Active Max   Active Min  Idle Mean   Idle Std   Idle Max  \\\n",
              "0          0.0          0.0          0.0        0.0        0.0        0.0   \n",
              "1          0.0          0.0          0.0        0.0        0.0        0.0   \n",
              "2          0.0          0.0          0.0        0.0        0.0        0.0   \n",
              "3          0.0          0.0          0.0        0.0        0.0        0.0   \n",
              "4          0.0          0.0          0.0        0.0        0.0        0.0   \n",
              "\n",
              "    Idle Min  SimillarHTTP   Inbound   Label  \n",
              "0        0.0             0         0  BENIGN  \n",
              "1        0.0             0         0  BENIGN  \n",
              "2        0.0             0         0  BENIGN  \n",
              "3        0.0             0         0  BENIGN  \n",
              "4        0.0             0         0  BENIGN  \n",
              "\n",
              "[5 rows x 88 columns]"
            ],
            "text/html": [
              "\n",
              "  <div id=\"df-ab0a18e8-cadc-4981-bd94-bf6ba8587cc6\" class=\"colab-df-container\">\n",
              "    <div>\n",
              "<style scoped>\n",
              "    .dataframe tbody tr th:only-of-type {\n",
              "        vertical-align: middle;\n",
              "    }\n",
              "\n",
              "    .dataframe tbody tr th {\n",
              "        vertical-align: top;\n",
              "    }\n",
              "\n",
              "    .dataframe thead th {\n",
              "        text-align: right;\n",
              "    }\n",
              "</style>\n",
              "<table border=\"1\" class=\"dataframe\">\n",
              "  <thead>\n",
              "    <tr style=\"text-align: right;\">\n",
              "      <th></th>\n",
              "      <th>Unnamed: 0</th>\n",
              "      <th>Flow ID</th>\n",
              "      <th>Source IP</th>\n",
              "      <th>Source Port</th>\n",
              "      <th>Destination IP</th>\n",
              "      <th>Destination Port</th>\n",
              "      <th>Protocol</th>\n",
              "      <th>Timestamp</th>\n",
              "      <th>Flow Duration</th>\n",
              "      <th>Total Fwd Packets</th>\n",
              "      <th>...</th>\n",
              "      <th>Active Std</th>\n",
              "      <th>Active Max</th>\n",
              "      <th>Active Min</th>\n",
              "      <th>Idle Mean</th>\n",
              "      <th>Idle Std</th>\n",
              "      <th>Idle Max</th>\n",
              "      <th>Idle Min</th>\n",
              "      <th>SimillarHTTP</th>\n",
              "      <th>Inbound</th>\n",
              "      <th>Label</th>\n",
              "    </tr>\n",
              "  </thead>\n",
              "  <tbody>\n",
              "    <tr>\n",
              "      <th>0</th>\n",
              "      <td>21243</td>\n",
              "      <td>192.168.50.6-23.194.142.213-57215-443-6</td>\n",
              "      <td>192.168.50.6</td>\n",
              "      <td>57215</td>\n",
              "      <td>23.194.142.213</td>\n",
              "      <td>443</td>\n",
              "      <td>6</td>\n",
              "      <td>2018-12-01 11:22:40.970628</td>\n",
              "      <td>20740</td>\n",
              "      <td>2</td>\n",
              "      <td>...</td>\n",
              "      <td>0.0</td>\n",
              "      <td>0.0</td>\n",
              "      <td>0.0</td>\n",
              "      <td>0.0</td>\n",
              "      <td>0.0</td>\n",
              "      <td>0.0</td>\n",
              "      <td>0.0</td>\n",
              "      <td>0</td>\n",
              "      <td>0</td>\n",
              "      <td>BENIGN</td>\n",
              "    </tr>\n",
              "    <tr>\n",
              "      <th>1</th>\n",
              "      <td>18666</td>\n",
              "      <td>192.168.50.253-224.0.0.5-0-0-0</td>\n",
              "      <td>192.168.50.253</td>\n",
              "      <td>0</td>\n",
              "      <td>224.0.0.5</td>\n",
              "      <td>0</td>\n",
              "      <td>0</td>\n",
              "      <td>2018-12-01 11:22:41.955234</td>\n",
              "      <td>5</td>\n",
              "      <td>4</td>\n",
              "      <td>...</td>\n",
              "      <td>0.0</td>\n",
              "      <td>0.0</td>\n",
              "      <td>0.0</td>\n",
              "      <td>0.0</td>\n",
              "      <td>0.0</td>\n",
              "      <td>0.0</td>\n",
              "      <td>0.0</td>\n",
              "      <td>0</td>\n",
              "      <td>0</td>\n",
              "      <td>BENIGN</td>\n",
              "    </tr>\n",
              "    <tr>\n",
              "      <th>2</th>\n",
              "      <td>15346</td>\n",
              "      <td>8.0.6.4-8.6.0.1-0-0-0</td>\n",
              "      <td>8.6.0.1</td>\n",
              "      <td>0</td>\n",
              "      <td>8.0.6.4</td>\n",
              "      <td>0</td>\n",
              "      <td>0</td>\n",
              "      <td>2018-12-01 11:22:43.923507</td>\n",
              "      <td>2</td>\n",
              "      <td>2</td>\n",
              "      <td>...</td>\n",
              "      <td>0.0</td>\n",
              "      <td>0.0</td>\n",
              "      <td>0.0</td>\n",
              "      <td>0.0</td>\n",
              "      <td>0.0</td>\n",
              "      <td>0.0</td>\n",
              "      <td>0.0</td>\n",
              "      <td>0</td>\n",
              "      <td>0</td>\n",
              "      <td>BENIGN</td>\n",
              "    </tr>\n",
              "    <tr>\n",
              "      <th>3</th>\n",
              "      <td>160</td>\n",
              "      <td>192.168.50.254-224.0.0.5-0-0-0</td>\n",
              "      <td>192.168.50.254</td>\n",
              "      <td>0</td>\n",
              "      <td>224.0.0.5</td>\n",
              "      <td>0</td>\n",
              "      <td>0</td>\n",
              "      <td>2018-12-01 11:22:48.452989</td>\n",
              "      <td>3</td>\n",
              "      <td>3</td>\n",
              "      <td>...</td>\n",
              "      <td>0.0</td>\n",
              "      <td>0.0</td>\n",
              "      <td>0.0</td>\n",
              "      <td>0.0</td>\n",
              "      <td>0.0</td>\n",
              "      <td>0.0</td>\n",
              "      <td>0.0</td>\n",
              "      <td>0</td>\n",
              "      <td>0</td>\n",
              "      <td>BENIGN</td>\n",
              "    </tr>\n",
              "    <tr>\n",
              "      <th>4</th>\n",
              "      <td>19686</td>\n",
              "      <td>192.168.50.8-125.56.201.105-59307-80-6</td>\n",
              "      <td>192.168.50.8</td>\n",
              "      <td>59307</td>\n",
              "      <td>125.56.201.105</td>\n",
              "      <td>80</td>\n",
              "      <td>6</td>\n",
              "      <td>2018-12-01 11:22:49.599759</td>\n",
              "      <td>173888</td>\n",
              "      <td>2</td>\n",
              "      <td>...</td>\n",
              "      <td>0.0</td>\n",
              "      <td>0.0</td>\n",
              "      <td>0.0</td>\n",
              "      <td>0.0</td>\n",
              "      <td>0.0</td>\n",
              "      <td>0.0</td>\n",
              "      <td>0.0</td>\n",
              "      <td>0</td>\n",
              "      <td>0</td>\n",
              "      <td>BENIGN</td>\n",
              "    </tr>\n",
              "  </tbody>\n",
              "</table>\n",
              "<p>5 rows × 88 columns</p>\n",
              "</div>\n",
              "    <div class=\"colab-df-buttons\">\n",
              "\n",
              "  <div class=\"colab-df-container\">\n",
              "    <button class=\"colab-df-convert\" onclick=\"convertToInteractive('df-ab0a18e8-cadc-4981-bd94-bf6ba8587cc6')\"\n",
              "            title=\"Convert this dataframe to an interactive table.\"\n",
              "            style=\"display:none;\">\n",
              "\n",
              "  <svg xmlns=\"http://www.w3.org/2000/svg\" height=\"24px\" viewBox=\"0 -960 960 960\">\n",
              "    <path d=\"M120-120v-720h720v720H120Zm60-500h600v-160H180v160Zm220 220h160v-160H400v160Zm0 220h160v-160H400v160ZM180-400h160v-160H180v160Zm440 0h160v-160H620v160ZM180-180h160v-160H180v160Zm440 0h160v-160H620v160Z\"/>\n",
              "  </svg>\n",
              "    </button>\n",
              "\n",
              "  <style>\n",
              "    .colab-df-container {\n",
              "      display:flex;\n",
              "      gap: 12px;\n",
              "    }\n",
              "\n",
              "    .colab-df-convert {\n",
              "      background-color: #E8F0FE;\n",
              "      border: none;\n",
              "      border-radius: 50%;\n",
              "      cursor: pointer;\n",
              "      display: none;\n",
              "      fill: #1967D2;\n",
              "      height: 32px;\n",
              "      padding: 0 0 0 0;\n",
              "      width: 32px;\n",
              "    }\n",
              "\n",
              "    .colab-df-convert:hover {\n",
              "      background-color: #E2EBFA;\n",
              "      box-shadow: 0px 1px 2px rgba(60, 64, 67, 0.3), 0px 1px 3px 1px rgba(60, 64, 67, 0.15);\n",
              "      fill: #174EA6;\n",
              "    }\n",
              "\n",
              "    .colab-df-buttons div {\n",
              "      margin-bottom: 4px;\n",
              "    }\n",
              "\n",
              "    [theme=dark] .colab-df-convert {\n",
              "      background-color: #3B4455;\n",
              "      fill: #D2E3FC;\n",
              "    }\n",
              "\n",
              "    [theme=dark] .colab-df-convert:hover {\n",
              "      background-color: #434B5C;\n",
              "      box-shadow: 0px 1px 3px 1px rgba(0, 0, 0, 0.15);\n",
              "      filter: drop-shadow(0px 1px 2px rgba(0, 0, 0, 0.3));\n",
              "      fill: #FFFFFF;\n",
              "    }\n",
              "  </style>\n",
              "\n",
              "    <script>\n",
              "      const buttonEl =\n",
              "        document.querySelector('#df-ab0a18e8-cadc-4981-bd94-bf6ba8587cc6 button.colab-df-convert');\n",
              "      buttonEl.style.display =\n",
              "        google.colab.kernel.accessAllowed ? 'block' : 'none';\n",
              "\n",
              "      async function convertToInteractive(key) {\n",
              "        const element = document.querySelector('#df-ab0a18e8-cadc-4981-bd94-bf6ba8587cc6');\n",
              "        const dataTable =\n",
              "          await google.colab.kernel.invokeFunction('convertToInteractive',\n",
              "                                                    [key], {});\n",
              "        if (!dataTable) return;\n",
              "\n",
              "        const docLinkHtml = 'Like what you see? Visit the ' +\n",
              "          '<a target=\"_blank\" href=https://colab.research.google.com/notebooks/data_table.ipynb>data table notebook</a>'\n",
              "          + ' to learn more about interactive tables.';\n",
              "        element.innerHTML = '';\n",
              "        dataTable['output_type'] = 'display_data';\n",
              "        await google.colab.output.renderOutput(dataTable, element);\n",
              "        const docLink = document.createElement('div');\n",
              "        docLink.innerHTML = docLinkHtml;\n",
              "        element.appendChild(docLink);\n",
              "      }\n",
              "    </script>\n",
              "  </div>\n",
              "\n",
              "\n",
              "<div id=\"df-28f9f964-6275-4e30-9359-09feb9e93f40\">\n",
              "  <button class=\"colab-df-quickchart\" onclick=\"quickchart('df-28f9f964-6275-4e30-9359-09feb9e93f40')\"\n",
              "            title=\"Suggest charts\"\n",
              "            style=\"display:none;\">\n",
              "\n",
              "<svg xmlns=\"http://www.w3.org/2000/svg\" height=\"24px\"viewBox=\"0 0 24 24\"\n",
              "     width=\"24px\">\n",
              "    <g>\n",
              "        <path d=\"M19 3H5c-1.1 0-2 .9-2 2v14c0 1.1.9 2 2 2h14c1.1 0 2-.9 2-2V5c0-1.1-.9-2-2-2zM9 17H7v-7h2v7zm4 0h-2V7h2v10zm4 0h-2v-4h2v4z\"/>\n",
              "    </g>\n",
              "</svg>\n",
              "  </button>\n",
              "\n",
              "<style>\n",
              "  .colab-df-quickchart {\n",
              "      --bg-color: #E8F0FE;\n",
              "      --fill-color: #1967D2;\n",
              "      --hover-bg-color: #E2EBFA;\n",
              "      --hover-fill-color: #174EA6;\n",
              "      --disabled-fill-color: #AAA;\n",
              "      --disabled-bg-color: #DDD;\n",
              "  }\n",
              "\n",
              "  [theme=dark] .colab-df-quickchart {\n",
              "      --bg-color: #3B4455;\n",
              "      --fill-color: #D2E3FC;\n",
              "      --hover-bg-color: #434B5C;\n",
              "      --hover-fill-color: #FFFFFF;\n",
              "      --disabled-bg-color: #3B4455;\n",
              "      --disabled-fill-color: #666;\n",
              "  }\n",
              "\n",
              "  .colab-df-quickchart {\n",
              "    background-color: var(--bg-color);\n",
              "    border: none;\n",
              "    border-radius: 50%;\n",
              "    cursor: pointer;\n",
              "    display: none;\n",
              "    fill: var(--fill-color);\n",
              "    height: 32px;\n",
              "    padding: 0;\n",
              "    width: 32px;\n",
              "  }\n",
              "\n",
              "  .colab-df-quickchart:hover {\n",
              "    background-color: var(--hover-bg-color);\n",
              "    box-shadow: 0 1px 2px rgba(60, 64, 67, 0.3), 0 1px 3px 1px rgba(60, 64, 67, 0.15);\n",
              "    fill: var(--button-hover-fill-color);\n",
              "  }\n",
              "\n",
              "  .colab-df-quickchart-complete:disabled,\n",
              "  .colab-df-quickchart-complete:disabled:hover {\n",
              "    background-color: var(--disabled-bg-color);\n",
              "    fill: var(--disabled-fill-color);\n",
              "    box-shadow: none;\n",
              "  }\n",
              "\n",
              "  .colab-df-spinner {\n",
              "    border: 2px solid var(--fill-color);\n",
              "    border-color: transparent;\n",
              "    border-bottom-color: var(--fill-color);\n",
              "    animation:\n",
              "      spin 1s steps(1) infinite;\n",
              "  }\n",
              "\n",
              "  @keyframes spin {\n",
              "    0% {\n",
              "      border-color: transparent;\n",
              "      border-bottom-color: var(--fill-color);\n",
              "      border-left-color: var(--fill-color);\n",
              "    }\n",
              "    20% {\n",
              "      border-color: transparent;\n",
              "      border-left-color: var(--fill-color);\n",
              "      border-top-color: var(--fill-color);\n",
              "    }\n",
              "    30% {\n",
              "      border-color: transparent;\n",
              "      border-left-color: var(--fill-color);\n",
              "      border-top-color: var(--fill-color);\n",
              "      border-right-color: var(--fill-color);\n",
              "    }\n",
              "    40% {\n",
              "      border-color: transparent;\n",
              "      border-right-color: var(--fill-color);\n",
              "      border-top-color: var(--fill-color);\n",
              "    }\n",
              "    60% {\n",
              "      border-color: transparent;\n",
              "      border-right-color: var(--fill-color);\n",
              "    }\n",
              "    80% {\n",
              "      border-color: transparent;\n",
              "      border-right-color: var(--fill-color);\n",
              "      border-bottom-color: var(--fill-color);\n",
              "    }\n",
              "    90% {\n",
              "      border-color: transparent;\n",
              "      border-bottom-color: var(--fill-color);\n",
              "    }\n",
              "  }\n",
              "</style>\n",
              "\n",
              "  <script>\n",
              "    async function quickchart(key) {\n",
              "      const quickchartButtonEl =\n",
              "        document.querySelector('#' + key + ' button');\n",
              "      quickchartButtonEl.disabled = true;  // To prevent multiple clicks.\n",
              "      quickchartButtonEl.classList.add('colab-df-spinner');\n",
              "      try {\n",
              "        const charts = await google.colab.kernel.invokeFunction(\n",
              "            'suggestCharts', [key], {});\n",
              "      } catch (error) {\n",
              "        console.error('Error during call to suggestCharts:', error);\n",
              "      }\n",
              "      quickchartButtonEl.classList.remove('colab-df-spinner');\n",
              "      quickchartButtonEl.classList.add('colab-df-quickchart-complete');\n",
              "    }\n",
              "    (() => {\n",
              "      let quickchartButtonEl =\n",
              "        document.querySelector('#df-28f9f964-6275-4e30-9359-09feb9e93f40 button');\n",
              "      quickchartButtonEl.style.display =\n",
              "        google.colab.kernel.accessAllowed ? 'block' : 'none';\n",
              "    })();\n",
              "  </script>\n",
              "</div>\n",
              "\n",
              "    </div>\n",
              "  </div>\n"
            ],
            "application/vnd.google.colaboratory.intrinsic+json": {
              "type": "dataframe",
              "variable_name": "df"
            }
          },
          "metadata": {},
          "execution_count": 4
        }
      ]
    },
    {
      "cell_type": "code",
      "source": [
        "num_of_label = df.groupby(' Label').size()\n",
        "num_of_label"
      ],
      "metadata": {
        "colab": {
          "base_uri": "https://localhost:8080/",
          "height": 397
        },
        "id": "lyu0PunqcPqy",
        "outputId": "d653ddea-35d4-4d7a-be51-f7b058011aa4"
      },
      "execution_count": null,
      "outputs": [
        {
          "output_type": "execute_result",
          "data": {
            "text/plain": [
              " Label\n",
              "BENIGN            24701\n",
              "DrDoS_LDAP       148198\n",
              "DrDoS_NTP        123591\n",
              "DrDoS_NetBIOS    145922\n",
              "DrDoS_SSDP       146107\n",
              "DrDoS_UDP        131730\n",
              "Syn              138539\n",
              "UDP-lag          132720\n",
              "WebDDoS             413\n",
              "dtype: int64"
            ],
            "text/html": [
              "<div>\n",
              "<style scoped>\n",
              "    .dataframe tbody tr th:only-of-type {\n",
              "        vertical-align: middle;\n",
              "    }\n",
              "\n",
              "    .dataframe tbody tr th {\n",
              "        vertical-align: top;\n",
              "    }\n",
              "\n",
              "    .dataframe thead th {\n",
              "        text-align: right;\n",
              "    }\n",
              "</style>\n",
              "<table border=\"1\" class=\"dataframe\">\n",
              "  <thead>\n",
              "    <tr style=\"text-align: right;\">\n",
              "      <th></th>\n",
              "      <th>0</th>\n",
              "    </tr>\n",
              "    <tr>\n",
              "      <th>Label</th>\n",
              "      <th></th>\n",
              "    </tr>\n",
              "  </thead>\n",
              "  <tbody>\n",
              "    <tr>\n",
              "      <th>BENIGN</th>\n",
              "      <td>24701</td>\n",
              "    </tr>\n",
              "    <tr>\n",
              "      <th>DrDoS_LDAP</th>\n",
              "      <td>148198</td>\n",
              "    </tr>\n",
              "    <tr>\n",
              "      <th>DrDoS_NTP</th>\n",
              "      <td>123591</td>\n",
              "    </tr>\n",
              "    <tr>\n",
              "      <th>DrDoS_NetBIOS</th>\n",
              "      <td>145922</td>\n",
              "    </tr>\n",
              "    <tr>\n",
              "      <th>DrDoS_SSDP</th>\n",
              "      <td>146107</td>\n",
              "    </tr>\n",
              "    <tr>\n",
              "      <th>DrDoS_UDP</th>\n",
              "      <td>131730</td>\n",
              "    </tr>\n",
              "    <tr>\n",
              "      <th>Syn</th>\n",
              "      <td>138539</td>\n",
              "    </tr>\n",
              "    <tr>\n",
              "      <th>UDP-lag</th>\n",
              "      <td>132720</td>\n",
              "    </tr>\n",
              "    <tr>\n",
              "      <th>WebDDoS</th>\n",
              "      <td>413</td>\n",
              "    </tr>\n",
              "  </tbody>\n",
              "</table>\n",
              "</div><br><label><b>dtype:</b> int64</label>"
            ]
          },
          "metadata": {},
          "execution_count": 5
        }
      ]
    },
    {
      "cell_type": "markdown",
      "source": [
        "## **Step 3: Encode Label Column**"
      ],
      "metadata": {
        "id": "zSksOnzNKzdn"
      }
    },
    {
      "cell_type": "code",
      "source": [
        "df[' Label'] = df[' Label'].apply(lambda x: 0 if x == 'BENIGN' else 1)"
      ],
      "metadata": {
        "id": "fVvr5QtHlhlX"
      },
      "execution_count": null,
      "outputs": []
    },
    {
      "cell_type": "code",
      "source": [
        "# ddos_type_map = {}\n",
        "# for i in range(len(num_of_label)):\n",
        "#     ddos_type_map[num_of_label.index[i]] = i\n",
        "# ddos_type_map"
      ],
      "metadata": {
        "colab": {
          "base_uri": "https://localhost:8080/"
        },
        "id": "fGas8KoXdZ4F",
        "outputId": "5a53e468-84fb-4bfa-b7e1-ecb344fa06c1"
      },
      "execution_count": null,
      "outputs": [
        {
          "output_type": "execute_result",
          "data": {
            "text/plain": [
              "{'BENIGN': 0,\n",
              " 'DrDoS_LDAP': 1,\n",
              " 'DrDoS_NTP': 2,\n",
              " 'DrDoS_NetBIOS': 3,\n",
              " 'DrDoS_SSDP': 4,\n",
              " 'DrDoS_UDP': 5,\n",
              " 'Syn': 6,\n",
              " 'UDP-lag': 7,\n",
              " 'WebDDoS': 8}"
            ]
          },
          "metadata": {},
          "execution_count": 5
        }
      ]
    },
    {
      "cell_type": "code",
      "source": [
        "# df[' Label'] = df[' Label'].map(ddos_type_map)\n",
        "# df.sample(5)"
      ],
      "metadata": {
        "colab": {
          "base_uri": "https://localhost:8080/",
          "height": 550
        },
        "id": "xvD_vxT8dzDU",
        "outputId": "ec402397-a7f8-40f3-eeb7-9b8fb0c7d4b5"
      },
      "execution_count": null,
      "outputs": [
        {
          "output_type": "execute_result",
          "data": {
            "text/plain": [
              "        Unnamed: 0                                 Flow ID   Source IP  \\\n",
              "304957       24715  172.16.0.5-192.168.50.1-46909-16711-17  172.16.0.5   \n",
              "974769        9197   172.16.0.5-192.168.50.1-37336-37336-6  172.16.0.5   \n",
              "239233        5161    172.16.0.5-192.168.50.1-967-34591-17  172.16.0.5   \n",
              "756568      636612   172.16.0.5-192.168.50.1-19843-19843-6  172.16.0.5   \n",
              "175577        3814    172.16.0.5-192.168.50.1-634-37674-17  172.16.0.5   \n",
              "\n",
              "         Source Port  Destination IP   Destination Port   Protocol  \\\n",
              "304957         46909    192.168.50.1              16711         17   \n",
              "974769         37336    192.168.50.1              37336          6   \n",
              "239233           967    192.168.50.1              34591         17   \n",
              "756568         19843    192.168.50.1              19843          6   \n",
              "175577           634    192.168.50.1              37674         17   \n",
              "\n",
              "                         Timestamp   Flow Duration   Total Fwd Packets  ...  \\\n",
              "304957  2018-12-01 11:47:10.638302               1                   2  ...   \n",
              "974769  2018-12-01 13:29:50.702139        33699367                   4  ...   \n",
              "239233  2018-12-01 10:36:30.532894            1851                  30  ...   \n",
              "756568  2018-12-01 13:30:34.842988       111747983                  16  ...   \n",
              "175577  2018-12-01 10:36:09.212344             989                  28  ...   \n",
              "\n",
              "         Active Std   Active Max   Active Min     Idle Mean      Idle Std  \\\n",
              "304957     0.000000          0.0          0.0  0.000000e+00  0.000000e+00   \n",
              "974769     0.000000          1.0          1.0  3.369936e+07  0.000000e+00   \n",
              "239233     0.000000          0.0          0.0  0.000000e+00  0.000000e+00   \n",
              "756568    26.019224         49.0          1.0  1.596398e+07  4.682704e+06   \n",
              "175577     0.000000          0.0          0.0  0.000000e+00  0.000000e+00   \n",
              "\n",
              "          Idle Max    Idle Min  SimillarHTTP   Inbound   Label  \n",
              "304957         0.0         0.0             0         1       3  \n",
              "974769  33699365.0  33699365.0             0         1       7  \n",
              "239233         0.0         0.0             0         1       2  \n",
              "756568  23177260.0  12074480.0             0         1       6  \n",
              "175577         0.0         0.0             0         1       2  \n",
              "\n",
              "[5 rows x 88 columns]"
            ],
            "text/html": [
              "\n",
              "  <div id=\"df-da837887-126f-469f-a8b8-d3129719764a\" class=\"colab-df-container\">\n",
              "    <div>\n",
              "<style scoped>\n",
              "    .dataframe tbody tr th:only-of-type {\n",
              "        vertical-align: middle;\n",
              "    }\n",
              "\n",
              "    .dataframe tbody tr th {\n",
              "        vertical-align: top;\n",
              "    }\n",
              "\n",
              "    .dataframe thead th {\n",
              "        text-align: right;\n",
              "    }\n",
              "</style>\n",
              "<table border=\"1\" class=\"dataframe\">\n",
              "  <thead>\n",
              "    <tr style=\"text-align: right;\">\n",
              "      <th></th>\n",
              "      <th>Unnamed: 0</th>\n",
              "      <th>Flow ID</th>\n",
              "      <th>Source IP</th>\n",
              "      <th>Source Port</th>\n",
              "      <th>Destination IP</th>\n",
              "      <th>Destination Port</th>\n",
              "      <th>Protocol</th>\n",
              "      <th>Timestamp</th>\n",
              "      <th>Flow Duration</th>\n",
              "      <th>Total Fwd Packets</th>\n",
              "      <th>...</th>\n",
              "      <th>Active Std</th>\n",
              "      <th>Active Max</th>\n",
              "      <th>Active Min</th>\n",
              "      <th>Idle Mean</th>\n",
              "      <th>Idle Std</th>\n",
              "      <th>Idle Max</th>\n",
              "      <th>Idle Min</th>\n",
              "      <th>SimillarHTTP</th>\n",
              "      <th>Inbound</th>\n",
              "      <th>Label</th>\n",
              "    </tr>\n",
              "  </thead>\n",
              "  <tbody>\n",
              "    <tr>\n",
              "      <th>304957</th>\n",
              "      <td>24715</td>\n",
              "      <td>172.16.0.5-192.168.50.1-46909-16711-17</td>\n",
              "      <td>172.16.0.5</td>\n",
              "      <td>46909</td>\n",
              "      <td>192.168.50.1</td>\n",
              "      <td>16711</td>\n",
              "      <td>17</td>\n",
              "      <td>2018-12-01 11:47:10.638302</td>\n",
              "      <td>1</td>\n",
              "      <td>2</td>\n",
              "      <td>...</td>\n",
              "      <td>0.000000</td>\n",
              "      <td>0.0</td>\n",
              "      <td>0.0</td>\n",
              "      <td>0.000000e+00</td>\n",
              "      <td>0.000000e+00</td>\n",
              "      <td>0.0</td>\n",
              "      <td>0.0</td>\n",
              "      <td>0</td>\n",
              "      <td>1</td>\n",
              "      <td>3</td>\n",
              "    </tr>\n",
              "    <tr>\n",
              "      <th>974769</th>\n",
              "      <td>9197</td>\n",
              "      <td>172.16.0.5-192.168.50.1-37336-37336-6</td>\n",
              "      <td>172.16.0.5</td>\n",
              "      <td>37336</td>\n",
              "      <td>192.168.50.1</td>\n",
              "      <td>37336</td>\n",
              "      <td>6</td>\n",
              "      <td>2018-12-01 13:29:50.702139</td>\n",
              "      <td>33699367</td>\n",
              "      <td>4</td>\n",
              "      <td>...</td>\n",
              "      <td>0.000000</td>\n",
              "      <td>1.0</td>\n",
              "      <td>1.0</td>\n",
              "      <td>3.369936e+07</td>\n",
              "      <td>0.000000e+00</td>\n",
              "      <td>33699365.0</td>\n",
              "      <td>33699365.0</td>\n",
              "      <td>0</td>\n",
              "      <td>1</td>\n",
              "      <td>7</td>\n",
              "    </tr>\n",
              "    <tr>\n",
              "      <th>239233</th>\n",
              "      <td>5161</td>\n",
              "      <td>172.16.0.5-192.168.50.1-967-34591-17</td>\n",
              "      <td>172.16.0.5</td>\n",
              "      <td>967</td>\n",
              "      <td>192.168.50.1</td>\n",
              "      <td>34591</td>\n",
              "      <td>17</td>\n",
              "      <td>2018-12-01 10:36:30.532894</td>\n",
              "      <td>1851</td>\n",
              "      <td>30</td>\n",
              "      <td>...</td>\n",
              "      <td>0.000000</td>\n",
              "      <td>0.0</td>\n",
              "      <td>0.0</td>\n",
              "      <td>0.000000e+00</td>\n",
              "      <td>0.000000e+00</td>\n",
              "      <td>0.0</td>\n",
              "      <td>0.0</td>\n",
              "      <td>0</td>\n",
              "      <td>1</td>\n",
              "      <td>2</td>\n",
              "    </tr>\n",
              "    <tr>\n",
              "      <th>756568</th>\n",
              "      <td>636612</td>\n",
              "      <td>172.16.0.5-192.168.50.1-19843-19843-6</td>\n",
              "      <td>172.16.0.5</td>\n",
              "      <td>19843</td>\n",
              "      <td>192.168.50.1</td>\n",
              "      <td>19843</td>\n",
              "      <td>6</td>\n",
              "      <td>2018-12-01 13:30:34.842988</td>\n",
              "      <td>111747983</td>\n",
              "      <td>16</td>\n",
              "      <td>...</td>\n",
              "      <td>26.019224</td>\n",
              "      <td>49.0</td>\n",
              "      <td>1.0</td>\n",
              "      <td>1.596398e+07</td>\n",
              "      <td>4.682704e+06</td>\n",
              "      <td>23177260.0</td>\n",
              "      <td>12074480.0</td>\n",
              "      <td>0</td>\n",
              "      <td>1</td>\n",
              "      <td>6</td>\n",
              "    </tr>\n",
              "    <tr>\n",
              "      <th>175577</th>\n",
              "      <td>3814</td>\n",
              "      <td>172.16.0.5-192.168.50.1-634-37674-17</td>\n",
              "      <td>172.16.0.5</td>\n",
              "      <td>634</td>\n",
              "      <td>192.168.50.1</td>\n",
              "      <td>37674</td>\n",
              "      <td>17</td>\n",
              "      <td>2018-12-01 10:36:09.212344</td>\n",
              "      <td>989</td>\n",
              "      <td>28</td>\n",
              "      <td>...</td>\n",
              "      <td>0.000000</td>\n",
              "      <td>0.0</td>\n",
              "      <td>0.0</td>\n",
              "      <td>0.000000e+00</td>\n",
              "      <td>0.000000e+00</td>\n",
              "      <td>0.0</td>\n",
              "      <td>0.0</td>\n",
              "      <td>0</td>\n",
              "      <td>1</td>\n",
              "      <td>2</td>\n",
              "    </tr>\n",
              "  </tbody>\n",
              "</table>\n",
              "<p>5 rows × 88 columns</p>\n",
              "</div>\n",
              "    <div class=\"colab-df-buttons\">\n",
              "\n",
              "  <div class=\"colab-df-container\">\n",
              "    <button class=\"colab-df-convert\" onclick=\"convertToInteractive('df-da837887-126f-469f-a8b8-d3129719764a')\"\n",
              "            title=\"Convert this dataframe to an interactive table.\"\n",
              "            style=\"display:none;\">\n",
              "\n",
              "  <svg xmlns=\"http://www.w3.org/2000/svg\" height=\"24px\" viewBox=\"0 -960 960 960\">\n",
              "    <path d=\"M120-120v-720h720v720H120Zm60-500h600v-160H180v160Zm220 220h160v-160H400v160Zm0 220h160v-160H400v160ZM180-400h160v-160H180v160Zm440 0h160v-160H620v160ZM180-180h160v-160H180v160Zm440 0h160v-160H620v160Z\"/>\n",
              "  </svg>\n",
              "    </button>\n",
              "\n",
              "  <style>\n",
              "    .colab-df-container {\n",
              "      display:flex;\n",
              "      gap: 12px;\n",
              "    }\n",
              "\n",
              "    .colab-df-convert {\n",
              "      background-color: #E8F0FE;\n",
              "      border: none;\n",
              "      border-radius: 50%;\n",
              "      cursor: pointer;\n",
              "      display: none;\n",
              "      fill: #1967D2;\n",
              "      height: 32px;\n",
              "      padding: 0 0 0 0;\n",
              "      width: 32px;\n",
              "    }\n",
              "\n",
              "    .colab-df-convert:hover {\n",
              "      background-color: #E2EBFA;\n",
              "      box-shadow: 0px 1px 2px rgba(60, 64, 67, 0.3), 0px 1px 3px 1px rgba(60, 64, 67, 0.15);\n",
              "      fill: #174EA6;\n",
              "    }\n",
              "\n",
              "    .colab-df-buttons div {\n",
              "      margin-bottom: 4px;\n",
              "    }\n",
              "\n",
              "    [theme=dark] .colab-df-convert {\n",
              "      background-color: #3B4455;\n",
              "      fill: #D2E3FC;\n",
              "    }\n",
              "\n",
              "    [theme=dark] .colab-df-convert:hover {\n",
              "      background-color: #434B5C;\n",
              "      box-shadow: 0px 1px 3px 1px rgba(0, 0, 0, 0.15);\n",
              "      filter: drop-shadow(0px 1px 2px rgba(0, 0, 0, 0.3));\n",
              "      fill: #FFFFFF;\n",
              "    }\n",
              "  </style>\n",
              "\n",
              "    <script>\n",
              "      const buttonEl =\n",
              "        document.querySelector('#df-da837887-126f-469f-a8b8-d3129719764a button.colab-df-convert');\n",
              "      buttonEl.style.display =\n",
              "        google.colab.kernel.accessAllowed ? 'block' : 'none';\n",
              "\n",
              "      async function convertToInteractive(key) {\n",
              "        const element = document.querySelector('#df-da837887-126f-469f-a8b8-d3129719764a');\n",
              "        const dataTable =\n",
              "          await google.colab.kernel.invokeFunction('convertToInteractive',\n",
              "                                                    [key], {});\n",
              "        if (!dataTable) return;\n",
              "\n",
              "        const docLinkHtml = 'Like what you see? Visit the ' +\n",
              "          '<a target=\"_blank\" href=https://colab.research.google.com/notebooks/data_table.ipynb>data table notebook</a>'\n",
              "          + ' to learn more about interactive tables.';\n",
              "        element.innerHTML = '';\n",
              "        dataTable['output_type'] = 'display_data';\n",
              "        await google.colab.output.renderOutput(dataTable, element);\n",
              "        const docLink = document.createElement('div');\n",
              "        docLink.innerHTML = docLinkHtml;\n",
              "        element.appendChild(docLink);\n",
              "      }\n",
              "    </script>\n",
              "  </div>\n",
              "\n",
              "\n",
              "<div id=\"df-2e82dbb6-8867-4a1c-9025-4144f3389afd\">\n",
              "  <button class=\"colab-df-quickchart\" onclick=\"quickchart('df-2e82dbb6-8867-4a1c-9025-4144f3389afd')\"\n",
              "            title=\"Suggest charts\"\n",
              "            style=\"display:none;\">\n",
              "\n",
              "<svg xmlns=\"http://www.w3.org/2000/svg\" height=\"24px\"viewBox=\"0 0 24 24\"\n",
              "     width=\"24px\">\n",
              "    <g>\n",
              "        <path d=\"M19 3H5c-1.1 0-2 .9-2 2v14c0 1.1.9 2 2 2h14c1.1 0 2-.9 2-2V5c0-1.1-.9-2-2-2zM9 17H7v-7h2v7zm4 0h-2V7h2v10zm4 0h-2v-4h2v4z\"/>\n",
              "    </g>\n",
              "</svg>\n",
              "  </button>\n",
              "\n",
              "<style>\n",
              "  .colab-df-quickchart {\n",
              "      --bg-color: #E8F0FE;\n",
              "      --fill-color: #1967D2;\n",
              "      --hover-bg-color: #E2EBFA;\n",
              "      --hover-fill-color: #174EA6;\n",
              "      --disabled-fill-color: #AAA;\n",
              "      --disabled-bg-color: #DDD;\n",
              "  }\n",
              "\n",
              "  [theme=dark] .colab-df-quickchart {\n",
              "      --bg-color: #3B4455;\n",
              "      --fill-color: #D2E3FC;\n",
              "      --hover-bg-color: #434B5C;\n",
              "      --hover-fill-color: #FFFFFF;\n",
              "      --disabled-bg-color: #3B4455;\n",
              "      --disabled-fill-color: #666;\n",
              "  }\n",
              "\n",
              "  .colab-df-quickchart {\n",
              "    background-color: var(--bg-color);\n",
              "    border: none;\n",
              "    border-radius: 50%;\n",
              "    cursor: pointer;\n",
              "    display: none;\n",
              "    fill: var(--fill-color);\n",
              "    height: 32px;\n",
              "    padding: 0;\n",
              "    width: 32px;\n",
              "  }\n",
              "\n",
              "  .colab-df-quickchart:hover {\n",
              "    background-color: var(--hover-bg-color);\n",
              "    box-shadow: 0 1px 2px rgba(60, 64, 67, 0.3), 0 1px 3px 1px rgba(60, 64, 67, 0.15);\n",
              "    fill: var(--button-hover-fill-color);\n",
              "  }\n",
              "\n",
              "  .colab-df-quickchart-complete:disabled,\n",
              "  .colab-df-quickchart-complete:disabled:hover {\n",
              "    background-color: var(--disabled-bg-color);\n",
              "    fill: var(--disabled-fill-color);\n",
              "    box-shadow: none;\n",
              "  }\n",
              "\n",
              "  .colab-df-spinner {\n",
              "    border: 2px solid var(--fill-color);\n",
              "    border-color: transparent;\n",
              "    border-bottom-color: var(--fill-color);\n",
              "    animation:\n",
              "      spin 1s steps(1) infinite;\n",
              "  }\n",
              "\n",
              "  @keyframes spin {\n",
              "    0% {\n",
              "      border-color: transparent;\n",
              "      border-bottom-color: var(--fill-color);\n",
              "      border-left-color: var(--fill-color);\n",
              "    }\n",
              "    20% {\n",
              "      border-color: transparent;\n",
              "      border-left-color: var(--fill-color);\n",
              "      border-top-color: var(--fill-color);\n",
              "    }\n",
              "    30% {\n",
              "      border-color: transparent;\n",
              "      border-left-color: var(--fill-color);\n",
              "      border-top-color: var(--fill-color);\n",
              "      border-right-color: var(--fill-color);\n",
              "    }\n",
              "    40% {\n",
              "      border-color: transparent;\n",
              "      border-right-color: var(--fill-color);\n",
              "      border-top-color: var(--fill-color);\n",
              "    }\n",
              "    60% {\n",
              "      border-color: transparent;\n",
              "      border-right-color: var(--fill-color);\n",
              "    }\n",
              "    80% {\n",
              "      border-color: transparent;\n",
              "      border-right-color: var(--fill-color);\n",
              "      border-bottom-color: var(--fill-color);\n",
              "    }\n",
              "    90% {\n",
              "      border-color: transparent;\n",
              "      border-bottom-color: var(--fill-color);\n",
              "    }\n",
              "  }\n",
              "</style>\n",
              "\n",
              "  <script>\n",
              "    async function quickchart(key) {\n",
              "      const quickchartButtonEl =\n",
              "        document.querySelector('#' + key + ' button');\n",
              "      quickchartButtonEl.disabled = true;  // To prevent multiple clicks.\n",
              "      quickchartButtonEl.classList.add('colab-df-spinner');\n",
              "      try {\n",
              "        const charts = await google.colab.kernel.invokeFunction(\n",
              "            'suggestCharts', [key], {});\n",
              "      } catch (error) {\n",
              "        console.error('Error during call to suggestCharts:', error);\n",
              "      }\n",
              "      quickchartButtonEl.classList.remove('colab-df-spinner');\n",
              "      quickchartButtonEl.classList.add('colab-df-quickchart-complete');\n",
              "    }\n",
              "    (() => {\n",
              "      let quickchartButtonEl =\n",
              "        document.querySelector('#df-2e82dbb6-8867-4a1c-9025-4144f3389afd button');\n",
              "      quickchartButtonEl.style.display =\n",
              "        google.colab.kernel.accessAllowed ? 'block' : 'none';\n",
              "    })();\n",
              "  </script>\n",
              "</div>\n",
              "\n",
              "    </div>\n",
              "  </div>\n"
            ],
            "application/vnd.google.colaboratory.intrinsic+json": {
              "type": "dataframe"
            }
          },
          "metadata": {},
          "execution_count": 6
        }
      ]
    },
    {
      "cell_type": "markdown",
      "source": [
        "### **Prioritizing using Numerical Columns**"
      ],
      "metadata": {
        "id": "DQtBBpHpOBau"
      }
    },
    {
      "cell_type": "markdown",
      "source": [
        "- Categorical columns require encoding techniques like:\n",
        "  > **One-Hot Encoding**: Expands dimensions, leading to high sparsity.<br>\n",
        "  > **Label Encoding**: Imposes false ordinal relationships between categories.\n",
        "- Numeric columns skip this step, saving preprocessing time and reducing risk of errors in encoding.\n",
        "- ML and DL models operate on matrices and tensors filled with numbers.\n",
        "- Numeric data is already in the required format, enabling faster processing without additional preprocessing.\n",
        "- **Random Forest** calculates splits based on feature values, and **ANNs** perform weighted sums and activations—both rely on numeric inputs.\n"
      ],
      "metadata": {
        "id": "MxO_An3VOGRZ"
      }
    },
    {
      "cell_type": "code",
      "source": [
        "numeric_cols = list(df.select_dtypes(include=np.number))\n",
        "numeric_cols"
      ],
      "metadata": {
        "colab": {
          "base_uri": "https://localhost:8080/"
        },
        "id": "3Uvelxjed572",
        "outputId": "e0a72ea9-e1ee-43e6-e61e-2d910eaea7a8"
      },
      "execution_count": null,
      "outputs": [
        {
          "output_type": "execute_result",
          "data": {
            "text/plain": [
              "['Unnamed: 0',\n",
              " ' Source Port',\n",
              " ' Destination Port',\n",
              " ' Protocol',\n",
              " ' Flow Duration',\n",
              " ' Total Fwd Packets',\n",
              " ' Total Backward Packets',\n",
              " 'Total Length of Fwd Packets',\n",
              " ' Total Length of Bwd Packets',\n",
              " ' Fwd Packet Length Max',\n",
              " ' Fwd Packet Length Min',\n",
              " ' Fwd Packet Length Mean',\n",
              " ' Fwd Packet Length Std',\n",
              " 'Bwd Packet Length Max',\n",
              " ' Bwd Packet Length Min',\n",
              " ' Bwd Packet Length Mean',\n",
              " ' Bwd Packet Length Std',\n",
              " 'Flow Bytes/s',\n",
              " ' Flow Packets/s',\n",
              " ' Flow IAT Mean',\n",
              " ' Flow IAT Std',\n",
              " ' Flow IAT Max',\n",
              " ' Flow IAT Min',\n",
              " 'Fwd IAT Total',\n",
              " ' Fwd IAT Mean',\n",
              " ' Fwd IAT Std',\n",
              " ' Fwd IAT Max',\n",
              " ' Fwd IAT Min',\n",
              " 'Bwd IAT Total',\n",
              " ' Bwd IAT Mean',\n",
              " ' Bwd IAT Std',\n",
              " ' Bwd IAT Max',\n",
              " ' Bwd IAT Min',\n",
              " 'Fwd PSH Flags',\n",
              " ' Bwd PSH Flags',\n",
              " ' Fwd URG Flags',\n",
              " ' Bwd URG Flags',\n",
              " ' Fwd Header Length',\n",
              " ' Bwd Header Length',\n",
              " 'Fwd Packets/s',\n",
              " ' Bwd Packets/s',\n",
              " ' Min Packet Length',\n",
              " ' Max Packet Length',\n",
              " ' Packet Length Mean',\n",
              " ' Packet Length Std',\n",
              " ' Packet Length Variance',\n",
              " 'FIN Flag Count',\n",
              " ' SYN Flag Count',\n",
              " ' RST Flag Count',\n",
              " ' PSH Flag Count',\n",
              " ' ACK Flag Count',\n",
              " ' URG Flag Count',\n",
              " ' CWE Flag Count',\n",
              " ' ECE Flag Count',\n",
              " ' Down/Up Ratio',\n",
              " ' Average Packet Size',\n",
              " ' Avg Fwd Segment Size',\n",
              " ' Avg Bwd Segment Size',\n",
              " ' Fwd Header Length.1',\n",
              " 'Fwd Avg Bytes/Bulk',\n",
              " ' Fwd Avg Packets/Bulk',\n",
              " ' Fwd Avg Bulk Rate',\n",
              " ' Bwd Avg Bytes/Bulk',\n",
              " ' Bwd Avg Packets/Bulk',\n",
              " 'Bwd Avg Bulk Rate',\n",
              " 'Subflow Fwd Packets',\n",
              " ' Subflow Fwd Bytes',\n",
              " ' Subflow Bwd Packets',\n",
              " ' Subflow Bwd Bytes',\n",
              " 'Init_Win_bytes_forward',\n",
              " ' Init_Win_bytes_backward',\n",
              " ' act_data_pkt_fwd',\n",
              " ' min_seg_size_forward',\n",
              " 'Active Mean',\n",
              " ' Active Std',\n",
              " ' Active Max',\n",
              " ' Active Min',\n",
              " 'Idle Mean',\n",
              " ' Idle Std',\n",
              " ' Idle Max',\n",
              " ' Idle Min',\n",
              " ' Inbound',\n",
              " ' Label']"
            ]
          },
          "metadata": {},
          "execution_count": 7
        }
      ]
    },
    {
      "cell_type": "markdown",
      "source": [
        "Counterpoint Handling:\n",
        "\n",
        "- If categorical features are needed, convert them into numeric values first, e.g., target encoding or embedding layers in DL."
      ],
      "metadata": {
        "id": "Zz7ymySTYIhD"
      }
    },
    {
      "cell_type": "code",
      "source": [
        "X = df[numeric_cols].drop(' Label', axis=1)\n",
        "y = df[' Label']"
      ],
      "metadata": {
        "id": "I8wlZ6M3ckF4"
      },
      "execution_count": null,
      "outputs": []
    },
    {
      "cell_type": "markdown",
      "source": [
        "## **Step 4: Split Dataset**"
      ],
      "metadata": {
        "id": "hA8cv9SKLBd6"
      }
    },
    {
      "cell_type": "markdown",
      "source": [
        "Split dataset into **train** and **test** sets"
      ],
      "metadata": {
        "id": "kp3hzNMPLFaK"
      }
    },
    {
      "cell_type": "code",
      "source": [
        "X_train, X_test, y_train, y_test = train_test_split(X, y, test_size=0.2, random_state=42)\n",
        "\n",
        "X_train = X_train.replace([np.inf, -np.inf], np.nan)\n",
        "X_test = X_test.replace([np.inf, -np.inf], np.nan)\n",
        "\n",
        "X_train = X_train.dropna()\n",
        "X_test = X_test.dropna()\n",
        "\n",
        "y_train = y_train[X_train.index]\n",
        "y_test = y_test[X_test.index]\n",
        "\n",
        "scaler = StandardScaler()\n",
        "X_train = scaler.fit_transform(X_train)\n",
        "X_test = scaler.transform(X_test)"
      ],
      "metadata": {
        "id": "VkiEXv4zcW8p"
      },
      "execution_count": null,
      "outputs": []
    },
    {
      "cell_type": "markdown",
      "source": [
        "# **Why use Random Forest?**"
      ],
      "metadata": {
        "id": "yUEBL78TG4G4"
      }
    },
    {
      "cell_type": "markdown",
      "source": [
        "Random Forest (RF) is a tree-based ensemble method that excels at feature selection and preprocessing.\n",
        "\n",
        "- Feature Importance Selection:\n",
        "  > RF identifies the most important features (e.g., packet rates, flow durations) for classification, reducing dimensionality and noise.\n",
        "- Initial Classification:\n",
        "  > It provides a baseline classification that is interpretable and fast.\n",
        "- Noise Reduction:\n",
        "  > RF is resistant to overfitting and helps preprocess noisy data for ANN.\n",
        "- Feature Engineering:\n",
        "  > RF highlights patterns and relationships in the data that might not be obvious."
      ],
      "metadata": {
        "id": "76Rvn_drHN-D"
      }
    },
    {
      "cell_type": "code",
      "source": [
        "rf = RandomForestClassifier(n_estimators=100, random_state=42)\n",
        "rf.fit(X_train, y_train)\n",
        "\n",
        "importances = rf.feature_importances_\n",
        "importances_features = np.argsort(importances)[-10:]\n",
        "\n",
        "X_train = X_train[:, importances_features]\n",
        "X_test = X_test[:, importances_features]"
      ],
      "metadata": {
        "id": "g-IJZ2QRfsuh"
      },
      "execution_count": null,
      "outputs": []
    },
    {
      "cell_type": "code",
      "source": [
        "importances"
      ],
      "metadata": {
        "colab": {
          "base_uri": "https://localhost:8080/"
        },
        "id": "_c0fhUoYE3tV",
        "outputId": "f0566e96-90b1-4209-fbc3-9d6713c8b234"
      },
      "execution_count": null,
      "outputs": [
        {
          "output_type": "execute_result",
          "data": {
            "text/plain": [
              "array([2.99751782e-03, 4.76584755e-02, 1.10352826e-01, 3.76417730e-03,\n",
              "       8.75370649e-03, 7.05353844e-03, 4.87131279e-03, 1.58933915e-03,\n",
              "       4.40299302e-02, 2.65086912e-03, 3.58873860e-03, 6.18379695e-03,\n",
              "       2.12291190e-03, 5.06347488e-02, 1.93749601e-02, 3.37408643e-02,\n",
              "       1.07311415e-03, 6.73336118e-03, 4.85065610e-03, 4.78818127e-03,\n",
              "       1.02646004e-02, 7.34126306e-03, 2.52353612e-03, 3.86013217e-03,\n",
              "       3.42687862e-03, 1.62780146e-03, 3.40479305e-03, 7.60900351e-04,\n",
              "       1.31219477e-02, 5.83690403e-03, 9.63320988e-04, 9.53971861e-03,\n",
              "       7.02896633e-03, 8.87821364e-03, 0.00000000e+00, 0.00000000e+00,\n",
              "       0.00000000e+00, 1.06588090e-02, 5.06980775e-03, 3.55365709e-03,\n",
              "       2.81841598e-02, 3.56316787e-03, 1.07256025e-02, 4.10145899e-03,\n",
              "       8.41030391e-03, 5.64779979e-03, 0.00000000e+00, 6.31289698e-04,\n",
              "       1.06248839e-02, 0.00000000e+00, 2.90353858e-03, 8.04005375e-02,\n",
              "       1.33177108e-02, 0.00000000e+00, 3.16376805e-02, 3.75690032e-03,\n",
              "       1.25268663e-03, 6.53231031e-02, 1.16788451e-02, 0.00000000e+00,\n",
              "       0.00000000e+00, 0.00000000e+00, 0.00000000e+00, 0.00000000e+00,\n",
              "       0.00000000e+00, 4.52071823e-03, 8.92506423e-03, 3.82049184e-03,\n",
              "       2.43604646e-02, 2.96650268e-02, 3.92511024e-02, 5.76985130e-03,\n",
              "       1.70500506e-02, 8.00218680e-04, 1.20924110e-05, 2.06400472e-04,\n",
              "       9.25518892e-04, 3.57933216e-04, 1.34808397e-04, 3.73191736e-04,\n",
              "       5.02271063e-04, 1.16490850e-01])"
            ]
          },
          "metadata": {},
          "execution_count": 11
        }
      ]
    },
    {
      "cell_type": "code",
      "source": [
        "importances_features"
      ],
      "metadata": {
        "colab": {
          "base_uri": "https://localhost:8080/"
        },
        "id": "Yb_kB6bQFO2s",
        "outputId": "11e73bf6-3943-4b14-a7d7-9cad1eaff92c"
      },
      "execution_count": null,
      "outputs": [
        {
          "output_type": "execute_result",
          "data": {
            "text/plain": [
              "array([54, 15, 70,  8,  1, 13, 57, 51,  2, 81])"
            ]
          },
          "metadata": {},
          "execution_count": 12
        }
      ]
    },
    {
      "cell_type": "code",
      "source": [
        "for i in importances_features:\n",
        "    print(numeric_cols[i])"
      ],
      "metadata": {
        "colab": {
          "base_uri": "https://localhost:8080/"
        },
        "id": "g6Y8AyI9GzNw",
        "outputId": "2f11b33d-0d70-466d-ad7f-7ae21c03e1da"
      },
      "execution_count": null,
      "outputs": [
        {
          "output_type": "stream",
          "name": "stdout",
          "text": [
            " Down/Up Ratio\n",
            " Bwd Packet Length Mean\n",
            " Init_Win_bytes_backward\n",
            " Total Length of Bwd Packets\n",
            " Source Port\n",
            "Bwd Packet Length Max\n",
            " Avg Bwd Segment Size\n",
            " URG Flag Count\n",
            " Destination Port\n",
            " Inbound\n"
          ]
        }
      ]
    },
    {
      "cell_type": "markdown",
      "source": [
        "# **Why use ANN?**"
      ],
      "metadata": {
        "id": "oJ14xKs-HmTr"
      }
    },
    {
      "cell_type": "markdown",
      "source": [
        "ANNs (Artificial Neural Networks) are deep learning models that are excellent for capturing non-linear patterns and complex relationships in data.\n",
        "\n",
        "- Learning Non-linear Dependencies:\n",
        "  > ANN can learn non-linear relationships between input features, making it ideal for DDoS attacks, which often involve irregular traffic patterns.\n",
        "- Generalization for Complex Patterns:\n",
        "  > ANN generalizes well when data has hidden structures, which may be missed by traditional machine learning models like RF.\n",
        "- Real-Time Adaptation:\n",
        "  > With proper training, ANNs handle real-time detection through rapid inference on incoming data streams.\n",
        "- Sequential or Context Awareness:\n",
        "  > Advanced versions like LSTMs can model sequences for time-sensitive attacks."
      ],
      "metadata": {
        "id": "pAXR1Sp-HpnF"
      }
    },
    {
      "cell_type": "markdown",
      "source": [
        "## **Step 1: Data Preparation**"
      ],
      "metadata": {
        "id": "rlHh-fbHIVjv"
      }
    },
    {
      "cell_type": "code",
      "source": [
        "# Convert to PyTorch tensors\n",
        "X_train_tensor = torch.tensor(X_train, dtype=torch.float32)\n",
        "X_test_tensor = torch.tensor(X_test, dtype=torch.float32)\n",
        "y_train_tensor = torch.tensor(y_train.values, dtype=torch.float32).unsqueeze(1)\n",
        "y_test_tensor = torch.tensor(y_test.values, dtype=torch.float32).unsqueeze(1)\n",
        "\n",
        "# Create DataLoader\n",
        "train_dataset = TensorDataset(X_train_tensor, y_train_tensor)\n",
        "test_dataset = TensorDataset(X_test_tensor, y_test_tensor)\n",
        "\n",
        "train_loader = DataLoader(train_dataset, batch_size=32, shuffle=True)\n",
        "test_loader = DataLoader(test_dataset, batch_size=32, shuffle=False)"
      ],
      "metadata": {
        "id": "nb5nh3M_kzQ-"
      },
      "execution_count": null,
      "outputs": []
    },
    {
      "cell_type": "markdown",
      "source": [
        "## **Step 2: Initialize Model**"
      ],
      "metadata": {
        "id": "kMvJwg7kIbvQ"
      }
    },
    {
      "cell_type": "code",
      "source": [
        "class DDoSNet(nn.Module):\n",
        "    def __init__(self, input_size):\n",
        "        super(DDoSNet, self).__init__()\n",
        "        self.model = nn.Sequential(\n",
        "            nn.Linear(input_size, 64),\n",
        "            nn.ReLU(),\n",
        "            nn.Dropout(0.5),\n",
        "            nn.Linear(64, 32),\n",
        "            nn.ReLU(),\n",
        "            nn.Dropout(0.3),\n",
        "            nn.Linear(32, 1),\n",
        "            nn.Sigmoid()\n",
        "        )\n",
        "\n",
        "    def forward(self, x):\n",
        "        return self.model(x)\n",
        "\n",
        "\n",
        "# Initialize Model\n",
        "input_size = X_train.shape[1]\n",
        "model = DDoSNet(input_size)"
      ],
      "metadata": {
        "id": "sOoF9emmlD8I"
      },
      "execution_count": null,
      "outputs": []
    },
    {
      "cell_type": "markdown",
      "source": [
        "## **Step 3: Train the model**"
      ],
      "metadata": {
        "id": "BZ8JLaYoIhgl"
      }
    },
    {
      "cell_type": "code",
      "source": [
        "# Loss and Optimizer\n",
        "criterion = nn.BCELoss()\n",
        "optimizer = optim.Adam(model.parameters(), lr=0.001)\n",
        "\n",
        "# Training Loop\n",
        "num_epochs = 20\n",
        "for epoch in range(num_epochs):\n",
        "    model.train()\n",
        "    for batch_X, batch_y in train_loader:\n",
        "        outputs = model(batch_X)\n",
        "        loss = criterion(outputs, batch_y)\n",
        "\n",
        "        optimizer.zero_grad()\n",
        "        loss.backward()\n",
        "        optimizer.step()\n",
        "\n",
        "    print(f\"Epoch {epoch+1}/{num_epochs}, Loss: {loss.item():.4f}\")"
      ],
      "metadata": {
        "colab": {
          "base_uri": "https://localhost:8080/"
        },
        "id": "Gc9KG5P2lKo2",
        "outputId": "d1443cc5-41df-4197-bf7c-8636a8901356"
      },
      "execution_count": null,
      "outputs": [
        {
          "output_type": "stream",
          "name": "stdout",
          "text": [
            "Epoch 1/20, Loss: 0.0001\n",
            "Epoch 2/20, Loss: 0.0210\n",
            "Epoch 3/20, Loss: 0.0000\n",
            "Epoch 4/20, Loss: 0.0000\n",
            "Epoch 5/20, Loss: 0.0006\n",
            "Epoch 6/20, Loss: 0.0000\n",
            "Epoch 7/20, Loss: 0.0035\n",
            "Epoch 8/20, Loss: 0.0000\n",
            "Epoch 9/20, Loss: 0.0001\n",
            "Epoch 10/20, Loss: 0.0000\n",
            "Epoch 11/20, Loss: 0.0000\n",
            "Epoch 12/20, Loss: 0.0036\n",
            "Epoch 13/20, Loss: 0.0000\n",
            "Epoch 14/20, Loss: 0.0002\n",
            "Epoch 15/20, Loss: 0.0005\n",
            "Epoch 16/20, Loss: 0.0000\n",
            "Epoch 17/20, Loss: 0.0000\n",
            "Epoch 18/20, Loss: 0.0000\n",
            "Epoch 19/20, Loss: 0.0000\n",
            "Epoch 20/20, Loss: 0.0000\n"
          ]
        }
      ]
    },
    {
      "cell_type": "markdown",
      "source": [
        "## **Step 4: Model Evaluation**"
      ],
      "metadata": {
        "id": "1z1GbXbtILpR"
      }
    },
    {
      "cell_type": "code",
      "source": [
        "# Evaluate Model\n",
        "model.eval()\n",
        "y_pred_list = []\n",
        "with torch.no_grad():\n",
        "    for batch_X, _ in test_loader:\n",
        "        outputs = model(batch_X)\n",
        "        y_pred_list.append(outputs.cpu().numpy())\n",
        "\n",
        "# Convert predictions\n",
        "y_pred = np.vstack(y_pred_list)\n",
        "y_pred = (y_pred > 0.5).astype(int)\n",
        "\n",
        "# Metrics\n",
        "print(\"Accuracy:\", accuracy_score(y_test, y_pred))\n",
        "print(classification_report(y_test, y_pred))\n",
        "print(confusion_matrix(y_test, y_pred))\n"
      ],
      "metadata": {
        "colab": {
          "base_uri": "https://localhost:8080/"
        },
        "id": "PFq9QqFxreYs",
        "outputId": "1aa54e12-8b6e-40e2-d5db-c50a80ce7596"
      },
      "execution_count": null,
      "outputs": [
        {
          "output_type": "stream",
          "name": "stdout",
          "text": [
            "Accuracy: 0.9995624361886108\n",
            "              precision    recall  f1-score   support\n",
            "\n",
            "           0       0.99      0.99      0.99      4910\n",
            "           1       1.00      1.00      1.00    187062\n",
            "\n",
            "    accuracy                           1.00    191972\n",
            "   macro avg       0.99      1.00      1.00    191972\n",
            "weighted avg       1.00      1.00      1.00    191972\n",
            "\n",
            "[[  4876     34]\n",
            " [    50 187012]]\n"
          ]
        }
      ]
    },
    {
      "cell_type": "code",
      "source": [
        "X_test_tensor.shape"
      ],
      "metadata": {
        "colab": {
          "base_uri": "https://localhost:8080/"
        },
        "id": "ArXgEkZArlrp",
        "outputId": "2ca70ec8-1642-4361-f84d-fda6c95f1642"
      },
      "execution_count": null,
      "outputs": [
        {
          "output_type": "execute_result",
          "data": {
            "text/plain": [
              "torch.Size([191972, 10])"
            ]
          },
          "metadata": {},
          "execution_count": 33
        }
      ]
    },
    {
      "cell_type": "markdown",
      "source": [
        "## **Step 5: Model Testing**"
      ],
      "metadata": {
        "id": "x6Cltg-MIFyH"
      }
    },
    {
      "cell_type": "code",
      "source": [
        "# Predict\n",
        "def predict_ddos(test_tensor):\n",
        "    model.eval()\n",
        "    with torch.no_grad():  # Disable gradient calculations for inference\n",
        "        prediction = model(test_tensor)  # Get prediction\n",
        "\n",
        "    # Apply threshold (0.5) to classify as 0 or 1\n",
        "    result = (prediction > 0.5).int()\n",
        "    return result\n",
        "\n",
        "# # Print Results\n",
        "# if result == 1:\n",
        "#     print(\"DDoS Attack Detected!\")\n",
        "# else:\n",
        "#     print(\"Normal Traffic\")\n"
      ],
      "metadata": {
        "id": "wA7Ek5q1rp_c"
      },
      "execution_count": null,
      "outputs": []
    },
    {
      "cell_type": "code",
      "source": [
        "attack = 0\n",
        "not_attack = 0\n",
        "for i in range(X_test_tensor.shape[0]):\n",
        "    result = predict_ddos(X_test_tensor[i])\n",
        "    if result == 1:\n",
        "        attack += 1\n",
        "    else:\n",
        "        not_attack += 1"
      ],
      "metadata": {
        "id": "7mVy3ow6tIVW"
      },
      "execution_count": null,
      "outputs": []
    },
    {
      "cell_type": "code",
      "source": [
        "attack"
      ],
      "metadata": {
        "colab": {
          "base_uri": "https://localhost:8080/"
        },
        "id": "dNly7Rz_uFXK",
        "outputId": "d045196d-25c8-4e2b-8192-c30d75dfdbdc"
      },
      "execution_count": null,
      "outputs": [
        {
          "output_type": "execute_result",
          "data": {
            "text/plain": [
              "187046"
            ]
          },
          "metadata": {},
          "execution_count": 39
        }
      ]
    }
  ]
}